{
 "cells": [
  {
   "cell_type": "code",
   "execution_count": 1,
   "metadata": {},
   "outputs": [],
   "source": [
    "from wapy.api import Wapy\n",
    "\n"
   ]
  },
  {
   "cell_type": "code",
   "execution_count": 2,
   "metadata": {},
   "outputs": [
    {
     "name": "stdout",
     "output_type": "stream",
     "text": [
      "Apple EarPods with Remote and Mic MD827LLA\n",
      "2.66\n",
      "3.896\n",
      "https://i5.walmartimages.com/asr/50622b7e-323a-4a81-aa81-e7e9bffbaa85_1.6498f145e5fc09ddbdca34afd113d36e.jpeg?odnHeight=180&odnWidth=180&odnBg=FFFFFF\n",
      "Refurbished Microsoft Xbox One S 500GB Console White Slim\n",
      "Xbox One X 1TB Console with NBA 2K 18 and Accessories\n",
      "Microsoft Xbox One S 500GB Console, White, ZQ9-00001\n",
      "Xbox One S 500GB Console, Microsoft ZQ9-00001, Refurbished Console, 886162361186\n",
      "Microsoft Xbox One S 1TB Rocket League Bundle, White, 234-00370\n",
      "Microsoft Xbox One Elite Wireless Controller, Black, HM3-00001\n",
      "Xbox One S 2TB Gears of War 4 Limited Edition (Xbox One)\n",
      "Microsoft Xbox One Wireless Controller, Minecraft Creeper\n",
      "Xbox One 1 TB FIFA 16 Limited Edition Console Bundle\n",
      "Xbox One X 1TB Console with Rare Replay and Kit\n",
      "Shun\n",
      "BJRutt\n",
      "Chris1969moon\n",
      "KnarfOH\n",
      "KayMarie\n"
     ]
    }
   ],
   "source": [
    "wapy = Wapy('kxav3wundcbj3yygxa3jcxtq') # Create an instance of Wapy.\n",
    "\n",
    "#### PRODUCT LOOKUP ####\n",
    "product = wapy.product_lookup('21853453') # Perform a product lookup using the item ID.\n",
    "print (product.name) # Apple EarPods with Remote and Mic MD827LLA\n",
    "print (product.weight) # 1.0\n",
    "print (product.customer_rating) # 4.445\n",
    "print (product.medium_image) # https://i5.walmartimages.com/asr/6cd9c...\n",
    "\n",
    "#### PRODUCT SEARCH ####\n",
    "products = wapy.search('xbox')\n",
    "for product in products:\n",
    "    print (product.name)\n",
    "\n",
    "#### PRODUCT REVIEWS ####\n",
    "reviews = wapy.product_reviews('21853453')\n",
    "for review in reviews:\n",
    "    print (review.reviewer)"
   ]
  },
  {
   "cell_type": "code",
   "execution_count": 63,
   "metadata": {},
   "outputs": [],
   "source": [
    "tp=wapy.trending_products()"
   ]
  },
  {
   "cell_type": "code",
   "execution_count": 65,
   "metadata": {},
   "outputs": [
    {
     "name": "stdout",
     "output_type": "stream",
     "text": [
      "Farberware 3.2-Quart Digital Oil-Less Fryer, White\n",
      "Grand Theft Auto V, Rockstar Games, PlayStation 4, 710425475252\n",
      "Texas Instruments TI-84 Plus CE Graphing Calculator, Black\n",
      "FIFA 18, Electronic Arts, PlayStation 4, 014633735215\n",
      "Jumpking Trampoline 4-Foot Bouncer for Kids, Blue Sport Balls\n",
      "Nintendo Entertainment System: NES Classic Edition\n",
      "Muscle Rack 48\"W x 24\"D x 72\"H 5-Shelf Steel Shelving, Black\n",
      "GoPro HERO5 Black 4K Action Camera-scroll down for special bundle offer\n",
      "Coleman 70 qt Xtreme Marine Cooler\n",
      "Mainstays Faux-Fur Saucer Chair, Multiple Colors\n",
      "RCA Viking Pro 10.1\" Android 2-in-1 Tablet 32GB Quad Core\n",
      "Plantronics Backbeat Sense Wireless Bluetooth Headphones with Mic - White\n",
      "Mainstays Parson Cubby TV Stand, for TVs up to 50”, Multiple Finishes\n",
      "12-Volt Rideamals Scout Pony Interactive Ride-On Toy by Kid Trax\n",
      "Cosco Finale 2-in-1 Booster Car Seat, Flight\n",
      "Baby Trend Walker, Safari Kingdom\n",
      "Dream On Me, Twilight 5\" Coil Spring Crib And Toddler Mattress, Green Cloud\n",
      "11x14 Gallery Wrap Canvas\n",
      "Arrow Fastener T25 T25 Wire and Cable Stapler\n",
      "CAP Barbell Cast Iron Dumbbell, Pair\n",
      "Fast & Furious 1-7 Collection (Blu-ray) (VUDU Instawatch Included)\n",
      "Google Home Mini - Chalk, 2-Pack\n",
      "Gibson Home Essential Total Kitchen 83-Piece Combo Set\n",
      "Aware : The Science and Practice of Presence--The Groundbreaking Meditation Practice\n"
     ]
    }
   ],
   "source": [
    "len(tp)\n",
    "for i in range(1,len(tp)):\n",
    "    print(tp[i].name)\n"
   ]
  },
  {
   "cell_type": "code",
   "execution_count": 62,
   "metadata": {},
   "outputs": [
    {
     "name": "stdout",
     "output_type": "stream",
     "text": [
      "Pampers Swaddlers Diapers (Choose Size and Count)\n",
      "Fisher-Price Roller Blocks Tumblin' Zebra\n",
      "Graco LiteRider Click Connect Travel System Stroller, with SnugRide Click Connect 22 Infant Car Seat, Priscilla\n",
      "Graco Premium Foam Crib and Toddler Mattress\n",
      "Evenflo Tribute Sport Convertible Car Seat, Choose Your Color\n",
      "Evenflo 3-in-1 Convertible High Chair, Dottie Lime\n",
      "Bright Starts Grab & Spin Rattle Toy\n",
      "Nuby Clik-It Soft Spout Trainer Sippy Cup - 2 pack\n",
      "Baby Trend EZ Ride 5 Travel System, Floral Garden\n",
      "Kolcraft Pediatric Crib and Toddler Innerspring Mattress, Owl\n",
      "Angel Line Windsor Glider and Ottoman White Finish and Gray Cushions\n",
      "Safety 1ˢᵗ Guide 65 Sport Convertible Car Seat, Guildsman\n",
      "The First Years Quick Serve Bottle Warmer\n",
      "Fisher-Price Brilliant Basics Nursery Rhyme Keys\n",
      "Magformers Rainbow 30pc Magnetic Play Set\n",
      "Little Tikes Discover & Learn Activity Center\n",
      "Evenflo Maestro Harness Booster Car Seat, choose your color\n",
      "Whitmor Kids Book Organizer Primary\n",
      "Urbini Omni Plus 3 in 1 Travel System, Special Edition\n",
      "Baby Trend Deluxe Nursery Center Playard, Havenwood\n",
      "Baby Trend Range Jogging Stroller, Millennium\n",
      "Baby Trend - Sit N Stand Double Stroller, Carbon\n",
      "Garanimals 4-Pack Receiving Blankets, Pink\n",
      "Similac Pro-Advance Infant Formula with 2'-FL Human Milk Oligosaccharide (HMO) for Immune Support, Ready to Feed, 2 fl oz (Pack of 8)\n",
      "Parent's Choice Fresh Scent Baby Wipes (Choose Your Count)\n",
      "Disney Baby Minnie Mouse Lift & Stroll Plus Travel System, Minnie Coral Flowers\n",
      "Pampers Baby Wipes Sensitive 7X Refill (Tub Not Included) 448 Count\n",
      "Baby Trend Walker, Safari Kingdom\n",
      "Earth's Best Organic Infant Cereal, Whole Grain Rice, 8 Ounce\n",
      "Parent's Choice Diapers (Choose Size and Count)\n",
      "Fisher-Price Shake 'N' Rattle Maracas\n",
      "Disney Baby Minnie Mouse Peekaboo Infant To Toddler Rocker\n",
      "Go & Grow by Similac Milk-Based Toddler Drink, Powder, 1.5 lb\n",
      "Similac Advance Infant Formula with Iron, Ready to Feed, 1 qt\n",
      "Best Made Toys Super Jumbo Bear\n",
      "Graco Pack 'n Play Portable Playard, Ashford\n",
      "Lansinoh Disposable Nursing Pads - 100 ct\n",
      "Cosco Scenera Next DLX Convertible Car Seat, Moon Mist\n",
      "Similac Pro-Advance Infant Formula with 2'-FL Human Milk Oligosaccharide (HMO) for Immune Support, Ready to Feed, 32 fl oz\n",
      "Parent's Choice Cucumber Scent Baby Wipes (Choose Your Count)\n",
      "Evenflo ExerSaucer Doorway Jumper, Owl\n",
      "VTech® Turn & Learn Driver™\n",
      "Playskool Play Favorites Lullaby Gloworm Toy, Pink\n",
      "Pampers Swaddlers Newborn Diapers Size 0 128 count\n",
      "Summer Infant My Size Potty\n",
      "DaVinci 34\" Contour Changing Pad\n",
      "Regalo Extra Wide Step Through Baby Gate, 29\"-50\" with Extensions\n",
      "Evenflo Big Kid Sport High Back Booster Car Seat, Goody Two Tones\n",
      "Safety 1ˢᵗ Grow and Go 3-in-1 Convertible Car Seat, Blue Coral\n",
      "Lansinoh Breastmilk Storage Bags - 100 CT\n",
      "VTech Tiny Touch Tablet, Pink\n",
      "PJ Masks Figure, 5 Pack\n",
      "Boon PIPES Building Bath Toy Set\n",
      "Graco SnugRide Click Connect LX Infant Car Seat Base, Black\n",
      "Pop 'n Play Portable Playard - Grey\n",
      "Graco Nautilus 65 3-in-1 Harness Booster Car Seat, Track\n",
      "Dream On Me 4\" Standard Crib and Toddler Mattress, Foam\n",
      "OxGord Children's Snack, Play, & Learn Activity Tray for Car Seats\n",
      "VTech® Drop & Go Dump Truck™\n",
      "Bright Starts Shake & Spin Activity Balls Toy\n",
      "Evenflo Big Kid Sport High Back Booster Seat, Peony Playground\n",
      "Brilliant Beginnings Letter Train & Piano Activity Table\n",
      "Baby Trend Walker, Emily\n",
      "Graco Pack 'n Play On the Go Playard, Twister\n",
      "Delta Children Classic Sweet Beginnings Bassinet, White\n",
      "Thomas & Friends Take-n-Play Thomas\n",
      "Fisher-Price Julius Jr. Playhouse Playset\n",
      "Safety 1st Sweet Dreams Crib and Toddler Mattress, Thermo-Bonded Core\n",
      "Kolcraft Cloud Umbrella Stroller, Black\n",
      "Bright Starts - Click & Giggle Remote\n",
      "Baby Trend Navigator Double Jogger Stroller, Tropic\n",
      "VTech® Sit-to-Stand Learning Walker™\n",
      "Storex Interlocking Book Bins, 12.6 x 5.3 x 14.3, 5 Color Set, Plastic\n",
      "Similac Pro-Sensitive Infant Formula with 2'-FL Human Milk Oligosaccharide (HMO) for Immune Support, Ready to Feed, 32 fl oz\n",
      "Neat Solutions Baby Bibs - 10 CT10.0 CT\n",
      "Harmony Juvenile Youth Backless Booster Car Seat, Granite\n",
      "Fisher Price Fun To Fix It Gift Set\n",
      "Cosco Simple Steps Baby Walker, Monster Syd\n",
      "Bright Starts 3 Ways To Play Ford F150 Baby Walker\n",
      "Evenflo - Breathable Soft Infant Carrier, Marianna\n",
      "Bright Starts Clack & Slide Activity Ball Toy\n",
      "Bob the Builder R/C Super Scoop\n",
      "PJ Masks Vehicle - Gekko and Gekko-Mobile\n",
      "Fisher-Price Thomas & Friends TrackMaster Thomas & Percy's Railway Race Set\n",
      "Little People Surprise & Sounds Home\n",
      "Little Tikes Lil' Ocean Explorers 3-in-1 Adventure Course\n",
      "Bright Starts Lights & Sounds Funpad Musical Toy\n",
      "Step2 Lift and Hide Bookcase Storage Chest\n",
      "Bright Starts Playful Pinwheels Bouncer\n",
      "Dream On Me, 3\" Spring Coil Mini/Portable Crib Mattress\n",
      "Dream On Me, Twilight 5 80 Coil Spring Crib And Toddler Bed Mattress\n",
      "Munchkin Warm Glow Wipe Warmer\n",
      "Disney Doc McStuffins Mini Sleepover Set/Nap Mat with BONUS Sling Bag\n",
      "Disney Frozen 2-Piece Blanket and Pillow Set\n",
      "Parent's Choice Non-GMO Premium Gentle Infant Formula, 33.2 oz\n",
      "Kolcraft Crib/Toddler Mattress with BONUS Sealy Crib Mattress Pad\n",
      "Summer Infant Contoured Change Pad\n",
      "Bright Starts Carry & Teethe Purse Toy\n",
      "Baby Einstein Neighborhood Friends Activity Jumper\n"
     ]
    }
   ],
   "source": [
    "t=wapy.bestseller_products(5427)\n",
    "len(t)\n",
    "t[1].name\n",
    "for i in range (1,len(t)):\n",
    "    print(t[i].name)"
   ]
  },
  {
   "cell_type": "code",
   "execution_count": 54,
   "metadata": {},
   "outputs": [
    {
     "name": "stdout",
     "output_type": "stream",
     "text": [
      "Apple iPad mini 16GB Wi-Fi\n"
     ]
    }
   ],
   "source": [
    "product1=wapy.product_lookup('33093101')\n",
    "print(product1.name)"
   ]
  },
  {
   "cell_type": "code",
   "execution_count": null,
   "metadata": {},
   "outputs": [],
   "source": []
  }
 ],
 "metadata": {
  "kernelspec": {
   "display_name": "Python 3",
   "language": "python",
   "name": "python3"
  },
  "language_info": {
   "codemirror_mode": {
    "name": "ipython",
    "version": 3
   },
   "file_extension": ".py",
   "mimetype": "text/x-python",
   "name": "python",
   "nbconvert_exporter": "python",
   "pygments_lexer": "ipython3",
   "version": "3.6.5"
  }
 },
 "nbformat": 4,
 "nbformat_minor": 2
}
