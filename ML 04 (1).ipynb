{
 "cells": [
  {
   "cell_type": "code",
   "execution_count": 7,
   "metadata": {},
   "outputs": [
    {
     "name": "stdout",
     "output_type": "stream",
     "text": [
      "0.80\n"
     ]
    }
   ],
   "source": [
    "import xgboost\n",
    "print(xgboost.__version__)"
   ]
  },
  {
   "cell_type": "code",
   "execution_count": 12,
   "metadata": {},
   "outputs": [],
   "source": [
    "import numpy as np\n",
    "from collections import Counter\n",
    "\n",
    "from sklearn.datasets import make_classification\n",
    "from sklearn.metrics import log_loss, accuracy_score\n",
    "from sklearn.cross_validation import train_test_split\n",
    "\n",
    "from sklearn.ensemble import AdaBoostClassifier\n",
    "from sklearn.ensemble import GradientBoostingClassifier\n",
    "from sklearn.tree import DecisionTreeClassifier\n",
    "\n",
    "seed = 100"
   ]
  },
  {
   "cell_type": "code",
   "execution_count": 13,
   "metadata": {},
   "outputs": [],
   "source": [
    "X,y = make_classification(n_samples=1000, n_features=20, n_informative=5, n_redundant=2, n_repeated=2, random_state=seed)"
   ]
  },
  {
   "cell_type": "code",
   "execution_count": 15,
   "metadata": {},
   "outputs": [],
   "source": [
    "X_train,X_test,y_train,y_test=train_test_split(X,y,test_size=0.1,random_state=seed)"
   ]
  },
  {
   "cell_type": "code",
   "execution_count": 17,
   "metadata": {},
   "outputs": [
    {
     "name": "stdout",
     "output_type": "stream",
     "text": [
      "The number of labels n train dataset are\n",
      "Counter({1: 450, 0: 450})\n",
      "The number of labels n test dataset are\n",
      "Counter({0: 52, 1: 48})\n"
     ]
    }
   ],
   "source": [
    "print(\"The number of labels n train dataset are\")\n",
    "print(Counter(y_train))\n",
    "print(\"The number of labels n test dataset are\")\n",
    "print(Counter(y_test))"
   ]
  },
  {
   "cell_type": "code",
   "execution_count": 20,
   "metadata": {},
   "outputs": [
    {
     "name": "stdout",
     "output_type": "stream",
     "text": [
      " Decision Tree Classifier\n",
      "Accuracy:  0.90\n",
      "Arithimic loss:  3.45\n",
      "Number of nodes created in decision tree:97.00\n"
     ]
    }
   ],
   "source": [
    "dec_tree = DecisionTreeClassifier(random_state = seed)\n",
    "dec_tree.fit(X_train, y_train)\n",
    "\n",
    "dec_tree_pred = dec_tree.predict(X_test)\n",
    "dec_tree_pred_prob = dec_tree.predict_proba(X_test)\n",
    "\n",
    "dec_tree_acc = accuracy_score(y_test, dec_tree_pred)\n",
    "dec_tree_loss = log_loss(y_test, dec_tree_pred_prob)\n",
    "\n",
    "print(\" Decision Tree Classifier\")\n",
    "\n",
    "print(\"Accuracy: {0: .2f}\".format(dec_tree_acc))\n",
    "print(\"Arithimic loss: {0: .2f}\".format(dec_tree_loss))\n",
    "print(\"Number of nodes created in decision tree:{0:.2f}\".format(dec_tree.tree_.node_count))"
   ]
  },
  {
   "cell_type": "code",
   "execution_count": null,
   "metadata": {},
   "outputs": [],
   "source": []
  }
 ],
 "metadata": {
  "kernelspec": {
   "display_name": "Python 3",
   "language": "python",
   "name": "python3"
  },
  "language_info": {
   "codemirror_mode": {
    "name": "ipython",
    "version": 3
   },
   "file_extension": ".py",
   "mimetype": "text/x-python",
   "name": "python",
   "nbconvert_exporter": "python",
   "pygments_lexer": "ipython3",
   "version": "3.6.5"
  }
 },
 "nbformat": 4,
 "nbformat_minor": 2
}
