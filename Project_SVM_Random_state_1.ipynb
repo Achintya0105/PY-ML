{
 "cells": [
  {
   "cell_type": "code",
   "execution_count": 7,
   "metadata": {},
   "outputs": [],
   "source": [
    "import pandas as pd\n",
    "import numpy as np\n",
    "import matplotlib.pyplot as plt\n",
    "from sklearn.metrics import accuracy_score\n",
    "from sklearn.svm import SVC\n",
    "from sklearn.metrics import confusion_matrix\n",
    "from sklearn.tree import DecisionTreeClassifier\n",
    "from sklearn.ensemble import GradientBoostingClassifier\n",
    "from sklearn.metrics import log_loss, accuracy_score"
   ]
  },
  {
   "cell_type": "code",
   "execution_count": 271,
   "metadata": {},
   "outputs": [],
   "source": [
    "df = pd.read_excel('data_1_final.xlsx')"
   ]
  },
  {
   "cell_type": "code",
   "execution_count": 272,
   "metadata": {},
   "outputs": [
    {
     "data": {
      "text/html": [
       "<div>\n",
       "<style scoped>\n",
       "    .dataframe tbody tr th:only-of-type {\n",
       "        vertical-align: middle;\n",
       "    }\n",
       "\n",
       "    .dataframe tbody tr th {\n",
       "        vertical-align: top;\n",
       "    }\n",
       "\n",
       "    .dataframe thead th {\n",
       "        text-align: right;\n",
       "    }\n",
       "</style>\n",
       "<table border=\"1\" class=\"dataframe\">\n",
       "  <thead>\n",
       "    <tr style=\"text-align: right;\">\n",
       "      <th></th>\n",
       "      <th>Sr No</th>\n",
       "      <th>Quote Id</th>\n",
       "      <th>Make</th>\n",
       "      <th>Model</th>\n",
       "      <th>Variant</th>\n",
       "      <th>RTO State</th>\n",
       "      <th>RTO City</th>\n",
       "      <th>Agent Name</th>\n",
       "      <th>call picked by customer</th>\n",
       "      <th>Calls attempted by agent</th>\n",
       "      <th>calls made by cust</th>\n",
       "      <th>Connected Calls</th>\n",
       "      <th>Agent tone</th>\n",
       "      <th>total calls durationæ</th>\n",
       "      <th>Asked to call back</th>\n",
       "      <th>Customer Interest</th>\n",
       "      <th>Days to expire</th>\n",
       "      <th>Expiry status</th>\n",
       "      <th>Purchased</th>\n",
       "    </tr>\n",
       "  </thead>\n",
       "  <tbody>\n",
       "    <tr>\n",
       "      <th>0</th>\n",
       "      <td>251</td>\n",
       "      <td>300647</td>\n",
       "      <td>TATA</td>\n",
       "      <td>INDICA V2 XETA</td>\n",
       "      <td>1.4 GLS</td>\n",
       "      <td>Delhi</td>\n",
       "      <td>SOUTH DELHI-SHEIKH SARAI</td>\n",
       "      <td>Mohammed Hafeez khan</td>\n",
       "      <td>Yes</td>\n",
       "      <td>5</td>\n",
       "      <td>0</td>\n",
       "      <td>1</td>\n",
       "      <td>Good</td>\n",
       "      <td>265</td>\n",
       "      <td>No</td>\n",
       "      <td>Interested</td>\n",
       "      <td>2</td>\n",
       "      <td>Days_left</td>\n",
       "      <td>No</td>\n",
       "    </tr>\n",
       "    <tr>\n",
       "      <th>1</th>\n",
       "      <td>252</td>\n",
       "      <td>300646</td>\n",
       "      <td>MARUTI</td>\n",
       "      <td>EECO</td>\n",
       "      <td>5 STR WITH A/C+HTR</td>\n",
       "      <td>Kerala</td>\n",
       "      <td>THIRUVANANTHAPURAM</td>\n",
       "      <td>Neha Khare</td>\n",
       "      <td>No</td>\n",
       "      <td>0</td>\n",
       "      <td>0</td>\n",
       "      <td>0</td>\n",
       "      <td>Call Not Picked</td>\n",
       "      <td>0</td>\n",
       "      <td>Call Not Picked</td>\n",
       "      <td>Not Interested</td>\n",
       "      <td>0</td>\n",
       "      <td>No_data</td>\n",
       "      <td>No</td>\n",
       "    </tr>\n",
       "    <tr>\n",
       "      <th>2</th>\n",
       "      <td>253</td>\n",
       "      <td>300645</td>\n",
       "      <td>CHEVROLET</td>\n",
       "      <td>SPARK</td>\n",
       "      <td>1.0 LT</td>\n",
       "      <td>Assam</td>\n",
       "      <td>KAMRUP</td>\n",
       "      <td>Kireeti Pasupuleti</td>\n",
       "      <td>No</td>\n",
       "      <td>1</td>\n",
       "      <td>0</td>\n",
       "      <td>0</td>\n",
       "      <td>Call Not Picked</td>\n",
       "      <td>0</td>\n",
       "      <td>Call Not Picked</td>\n",
       "      <td>Not Interested</td>\n",
       "      <td>0</td>\n",
       "      <td>No_data</td>\n",
       "      <td>No</td>\n",
       "    </tr>\n",
       "    <tr>\n",
       "      <th>3</th>\n",
       "      <td>254</td>\n",
       "      <td>300644</td>\n",
       "      <td>NISSAN MOTORS</td>\n",
       "      <td>X-TRAIL</td>\n",
       "      <td>LE</td>\n",
       "      <td>Jammu &amp; Kashmir</td>\n",
       "      <td>JAMMU</td>\n",
       "      <td>Pardeep Pal</td>\n",
       "      <td>Yes</td>\n",
       "      <td>4</td>\n",
       "      <td>0</td>\n",
       "      <td>3</td>\n",
       "      <td>Good</td>\n",
       "      <td>107</td>\n",
       "      <td>Yes</td>\n",
       "      <td>Not Interested</td>\n",
       "      <td>0</td>\n",
       "      <td>No_data</td>\n",
       "      <td>No</td>\n",
       "    </tr>\n",
       "    <tr>\n",
       "      <th>4</th>\n",
       "      <td>255</td>\n",
       "      <td>300643</td>\n",
       "      <td>HYUNDAI</td>\n",
       "      <td>EON</td>\n",
       "      <td>ERA PLUS</td>\n",
       "      <td>Andaman &amp; Nicobar Islands</td>\n",
       "      <td>PORT BLAIR</td>\n",
       "      <td>Venkatesh Upperpally</td>\n",
       "      <td>Yes</td>\n",
       "      <td>1</td>\n",
       "      <td>0</td>\n",
       "      <td>1</td>\n",
       "      <td>Good</td>\n",
       "      <td>255</td>\n",
       "      <td>Yes</td>\n",
       "      <td>Interested</td>\n",
       "      <td>0</td>\n",
       "      <td>Expired</td>\n",
       "      <td>No</td>\n",
       "    </tr>\n",
       "  </tbody>\n",
       "</table>\n",
       "</div>"
      ],
      "text/plain": [
       "   Sr No  Quote Id           Make           Model             Variant  \\\n",
       "0    251    300647           TATA  INDICA V2 XETA             1.4 GLS   \n",
       "1    252    300646         MARUTI            EECO  5 STR WITH A/C+HTR   \n",
       "2    253    300645      CHEVROLET           SPARK              1.0 LT   \n",
       "3    254    300644  NISSAN MOTORS         X-TRAIL                  LE   \n",
       "4    255    300643        HYUNDAI             EON            ERA PLUS   \n",
       "\n",
       "                   RTO State                  RTO City            Agent Name  \\\n",
       "0                      Delhi  SOUTH DELHI-SHEIKH SARAI  Mohammed Hafeez khan   \n",
       "1                     Kerala        THIRUVANANTHAPURAM            Neha Khare   \n",
       "2                      Assam                    KAMRUP    Kireeti Pasupuleti   \n",
       "3            Jammu & Kashmir                     JAMMU           Pardeep Pal   \n",
       "4  Andaman & Nicobar Islands                PORT BLAIR  Venkatesh Upperpally   \n",
       "\n",
       "  call picked by customer  Calls attempted by agent  calls made by cust  \\\n",
       "0                     Yes                         5                   0   \n",
       "1                      No                         0                   0   \n",
       "2                      No                         1                   0   \n",
       "3                     Yes                         4                   0   \n",
       "4                     Yes                         1                   0   \n",
       "\n",
       "   Connected Calls       Agent tone  total calls durationæ Asked to call back  \\\n",
       "0                1             Good                    265                 No   \n",
       "1                0  Call Not Picked                      0    Call Not Picked   \n",
       "2                0  Call Not Picked                      0    Call Not Picked   \n",
       "3                3             Good                    107                Yes   \n",
       "4                1             Good                    255                Yes   \n",
       "\n",
       "  Customer Interest  Days to expire Expiry status Purchased  \n",
       "0        Interested               2     Days_left        No  \n",
       "1    Not Interested               0       No_data        No  \n",
       "2    Not Interested               0       No_data        No  \n",
       "3    Not Interested               0       No_data        No  \n",
       "4        Interested               0       Expired        No  "
      ]
     },
     "execution_count": 272,
     "metadata": {},
     "output_type": "execute_result"
    }
   ],
   "source": [
    "df.head()"
   ]
  },
  {
   "cell_type": "code",
   "execution_count": 273,
   "metadata": {},
   "outputs": [],
   "source": [
    "df1=df.drop(['Sr No','Quote Id'], axis=1)"
   ]
  },
  {
   "cell_type": "code",
   "execution_count": 274,
   "metadata": {},
   "outputs": [
    {
     "data": {
      "text/html": [
       "<div>\n",
       "<style scoped>\n",
       "    .dataframe tbody tr th:only-of-type {\n",
       "        vertical-align: middle;\n",
       "    }\n",
       "\n",
       "    .dataframe tbody tr th {\n",
       "        vertical-align: top;\n",
       "    }\n",
       "\n",
       "    .dataframe thead th {\n",
       "        text-align: right;\n",
       "    }\n",
       "</style>\n",
       "<table border=\"1\" class=\"dataframe\">\n",
       "  <thead>\n",
       "    <tr style=\"text-align: right;\">\n",
       "      <th></th>\n",
       "      <th>Make</th>\n",
       "      <th>Model</th>\n",
       "      <th>Variant</th>\n",
       "      <th>RTO State</th>\n",
       "      <th>RTO City</th>\n",
       "      <th>Agent Name</th>\n",
       "      <th>call picked by customer</th>\n",
       "      <th>Calls attempted by agent</th>\n",
       "      <th>calls made by cust</th>\n",
       "      <th>Connected Calls</th>\n",
       "      <th>Agent tone</th>\n",
       "      <th>total calls durationæ</th>\n",
       "      <th>Asked to call back</th>\n",
       "      <th>Customer Interest</th>\n",
       "      <th>Days to expire</th>\n",
       "      <th>Expiry status</th>\n",
       "      <th>Purchased</th>\n",
       "    </tr>\n",
       "  </thead>\n",
       "  <tbody>\n",
       "    <tr>\n",
       "      <th>0</th>\n",
       "      <td>TATA</td>\n",
       "      <td>INDICA V2 XETA</td>\n",
       "      <td>1.4 GLS</td>\n",
       "      <td>Delhi</td>\n",
       "      <td>SOUTH DELHI-SHEIKH SARAI</td>\n",
       "      <td>Mohammed Hafeez khan</td>\n",
       "      <td>Yes</td>\n",
       "      <td>5</td>\n",
       "      <td>0</td>\n",
       "      <td>1</td>\n",
       "      <td>Good</td>\n",
       "      <td>265</td>\n",
       "      <td>No</td>\n",
       "      <td>Interested</td>\n",
       "      <td>2</td>\n",
       "      <td>Days_left</td>\n",
       "      <td>No</td>\n",
       "    </tr>\n",
       "    <tr>\n",
       "      <th>1</th>\n",
       "      <td>MARUTI</td>\n",
       "      <td>EECO</td>\n",
       "      <td>5 STR WITH A/C+HTR</td>\n",
       "      <td>Kerala</td>\n",
       "      <td>THIRUVANANTHAPURAM</td>\n",
       "      <td>Neha Khare</td>\n",
       "      <td>No</td>\n",
       "      <td>0</td>\n",
       "      <td>0</td>\n",
       "      <td>0</td>\n",
       "      <td>Call Not Picked</td>\n",
       "      <td>0</td>\n",
       "      <td>Call Not Picked</td>\n",
       "      <td>Not Interested</td>\n",
       "      <td>0</td>\n",
       "      <td>No_data</td>\n",
       "      <td>No</td>\n",
       "    </tr>\n",
       "    <tr>\n",
       "      <th>2</th>\n",
       "      <td>CHEVROLET</td>\n",
       "      <td>SPARK</td>\n",
       "      <td>1.0 LT</td>\n",
       "      <td>Assam</td>\n",
       "      <td>KAMRUP</td>\n",
       "      <td>Kireeti Pasupuleti</td>\n",
       "      <td>No</td>\n",
       "      <td>1</td>\n",
       "      <td>0</td>\n",
       "      <td>0</td>\n",
       "      <td>Call Not Picked</td>\n",
       "      <td>0</td>\n",
       "      <td>Call Not Picked</td>\n",
       "      <td>Not Interested</td>\n",
       "      <td>0</td>\n",
       "      <td>No_data</td>\n",
       "      <td>No</td>\n",
       "    </tr>\n",
       "    <tr>\n",
       "      <th>3</th>\n",
       "      <td>NISSAN MOTORS</td>\n",
       "      <td>X-TRAIL</td>\n",
       "      <td>LE</td>\n",
       "      <td>Jammu &amp; Kashmir</td>\n",
       "      <td>JAMMU</td>\n",
       "      <td>Pardeep Pal</td>\n",
       "      <td>Yes</td>\n",
       "      <td>4</td>\n",
       "      <td>0</td>\n",
       "      <td>3</td>\n",
       "      <td>Good</td>\n",
       "      <td>107</td>\n",
       "      <td>Yes</td>\n",
       "      <td>Not Interested</td>\n",
       "      <td>0</td>\n",
       "      <td>No_data</td>\n",
       "      <td>No</td>\n",
       "    </tr>\n",
       "    <tr>\n",
       "      <th>4</th>\n",
       "      <td>HYUNDAI</td>\n",
       "      <td>EON</td>\n",
       "      <td>ERA PLUS</td>\n",
       "      <td>Andaman &amp; Nicobar Islands</td>\n",
       "      <td>PORT BLAIR</td>\n",
       "      <td>Venkatesh Upperpally</td>\n",
       "      <td>Yes</td>\n",
       "      <td>1</td>\n",
       "      <td>0</td>\n",
       "      <td>1</td>\n",
       "      <td>Good</td>\n",
       "      <td>255</td>\n",
       "      <td>Yes</td>\n",
       "      <td>Interested</td>\n",
       "      <td>0</td>\n",
       "      <td>Expired</td>\n",
       "      <td>No</td>\n",
       "    </tr>\n",
       "  </tbody>\n",
       "</table>\n",
       "</div>"
      ],
      "text/plain": [
       "            Make           Model             Variant  \\\n",
       "0           TATA  INDICA V2 XETA             1.4 GLS   \n",
       "1         MARUTI            EECO  5 STR WITH A/C+HTR   \n",
       "2      CHEVROLET           SPARK              1.0 LT   \n",
       "3  NISSAN MOTORS         X-TRAIL                  LE   \n",
       "4        HYUNDAI             EON            ERA PLUS   \n",
       "\n",
       "                   RTO State                  RTO City            Agent Name  \\\n",
       "0                      Delhi  SOUTH DELHI-SHEIKH SARAI  Mohammed Hafeez khan   \n",
       "1                     Kerala        THIRUVANANTHAPURAM            Neha Khare   \n",
       "2                      Assam                    KAMRUP    Kireeti Pasupuleti   \n",
       "3            Jammu & Kashmir                     JAMMU           Pardeep Pal   \n",
       "4  Andaman & Nicobar Islands                PORT BLAIR  Venkatesh Upperpally   \n",
       "\n",
       "  call picked by customer  Calls attempted by agent  calls made by cust  \\\n",
       "0                     Yes                         5                   0   \n",
       "1                      No                         0                   0   \n",
       "2                      No                         1                   0   \n",
       "3                     Yes                         4                   0   \n",
       "4                     Yes                         1                   0   \n",
       "\n",
       "   Connected Calls       Agent tone  total calls durationæ Asked to call back  \\\n",
       "0                1             Good                    265                 No   \n",
       "1                0  Call Not Picked                      0    Call Not Picked   \n",
       "2                0  Call Not Picked                      0    Call Not Picked   \n",
       "3                3             Good                    107                Yes   \n",
       "4                1             Good                    255                Yes   \n",
       "\n",
       "  Customer Interest  Days to expire Expiry status Purchased  \n",
       "0        Interested               2     Days_left        No  \n",
       "1    Not Interested               0       No_data        No  \n",
       "2    Not Interested               0       No_data        No  \n",
       "3    Not Interested               0       No_data        No  \n",
       "4        Interested               0       Expired        No  "
      ]
     },
     "execution_count": 274,
     "metadata": {},
     "output_type": "execute_result"
    }
   ],
   "source": [
    "df1.head()"
   ]
  },
  {
   "cell_type": "code",
   "execution_count": 275,
   "metadata": {},
   "outputs": [
    {
     "data": {
      "text/plain": [
       "Series([], dtype: float64)"
      ]
     },
     "execution_count": 275,
     "metadata": {},
     "output_type": "execute_result"
    }
   ],
   "source": [
    "null_columns=df1.columns[df1.isnull().any()]\n",
    "df1[null_columns].isnull().sum()\n"
   ]
  },
  {
   "cell_type": "code",
   "execution_count": 276,
   "metadata": {},
   "outputs": [],
   "source": [
    "df1=df1.iloc[:,5:]"
   ]
  },
  {
   "cell_type": "code",
   "execution_count": 277,
   "metadata": {},
   "outputs": [
    {
     "data": {
      "text/plain": [
       "Agent Name                  object\n",
       "call picked by customer     object\n",
       "Calls attempted by agent     int64\n",
       "calls made by cust           int64\n",
       "Connected Calls              int64\n",
       "Agent tone                  object\n",
       "total calls durationæ        int64\n",
       "Asked to call back          object\n",
       "Customer Interest           object\n",
       "Days to expire               int64\n",
       "Expiry status               object\n",
       "Purchased                   object\n",
       "dtype: object"
      ]
     },
     "execution_count": 277,
     "metadata": {},
     "output_type": "execute_result"
    }
   ],
   "source": [
    "df1.dtypes"
   ]
  },
  {
   "cell_type": "code",
   "execution_count": 278,
   "metadata": {},
   "outputs": [],
   "source": [
    "from sklearn import preprocessing\n",
    "le = preprocessing.LabelEncoder()\n",
    "for i in df1.columns:\n",
    "    if df1[i].dtype == object:\n",
    "        df1[i] = le.fit_transform(df1[i])\n",
    "    else:\n",
    "        pass"
   ]
  },
  {
   "cell_type": "code",
   "execution_count": 279,
   "metadata": {},
   "outputs": [
    {
     "data": {
      "text/html": [
       "<div>\n",
       "<style scoped>\n",
       "    .dataframe tbody tr th:only-of-type {\n",
       "        vertical-align: middle;\n",
       "    }\n",
       "\n",
       "    .dataframe tbody tr th {\n",
       "        vertical-align: top;\n",
       "    }\n",
       "\n",
       "    .dataframe thead th {\n",
       "        text-align: right;\n",
       "    }\n",
       "</style>\n",
       "<table border=\"1\" class=\"dataframe\">\n",
       "  <thead>\n",
       "    <tr style=\"text-align: right;\">\n",
       "      <th></th>\n",
       "      <th>Agent Name</th>\n",
       "      <th>call picked by customer</th>\n",
       "      <th>Calls attempted by agent</th>\n",
       "      <th>calls made by cust</th>\n",
       "      <th>Connected Calls</th>\n",
       "      <th>Agent tone</th>\n",
       "      <th>total calls durationæ</th>\n",
       "      <th>Asked to call back</th>\n",
       "      <th>Customer Interest</th>\n",
       "      <th>Days to expire</th>\n",
       "      <th>Expiry status</th>\n",
       "      <th>Purchased</th>\n",
       "    </tr>\n",
       "  </thead>\n",
       "  <tbody>\n",
       "    <tr>\n",
       "      <th>0</th>\n",
       "      <td>8</td>\n",
       "      <td>1</td>\n",
       "      <td>5</td>\n",
       "      <td>0</td>\n",
       "      <td>1</td>\n",
       "      <td>2</td>\n",
       "      <td>265</td>\n",
       "      <td>1</td>\n",
       "      <td>0</td>\n",
       "      <td>2</td>\n",
       "      <td>0</td>\n",
       "      <td>0</td>\n",
       "    </tr>\n",
       "    <tr>\n",
       "      <th>1</th>\n",
       "      <td>12</td>\n",
       "      <td>0</td>\n",
       "      <td>0</td>\n",
       "      <td>0</td>\n",
       "      <td>0</td>\n",
       "      <td>1</td>\n",
       "      <td>0</td>\n",
       "      <td>0</td>\n",
       "      <td>2</td>\n",
       "      <td>0</td>\n",
       "      <td>3</td>\n",
       "      <td>0</td>\n",
       "    </tr>\n",
       "    <tr>\n",
       "      <th>2</th>\n",
       "      <td>5</td>\n",
       "      <td>0</td>\n",
       "      <td>1</td>\n",
       "      <td>0</td>\n",
       "      <td>0</td>\n",
       "      <td>1</td>\n",
       "      <td>0</td>\n",
       "      <td>0</td>\n",
       "      <td>2</td>\n",
       "      <td>0</td>\n",
       "      <td>3</td>\n",
       "      <td>0</td>\n",
       "    </tr>\n",
       "    <tr>\n",
       "      <th>3</th>\n",
       "      <td>13</td>\n",
       "      <td>1</td>\n",
       "      <td>4</td>\n",
       "      <td>0</td>\n",
       "      <td>3</td>\n",
       "      <td>2</td>\n",
       "      <td>107</td>\n",
       "      <td>2</td>\n",
       "      <td>2</td>\n",
       "      <td>0</td>\n",
       "      <td>3</td>\n",
       "      <td>0</td>\n",
       "    </tr>\n",
       "    <tr>\n",
       "      <th>4</th>\n",
       "      <td>22</td>\n",
       "      <td>1</td>\n",
       "      <td>1</td>\n",
       "      <td>0</td>\n",
       "      <td>1</td>\n",
       "      <td>2</td>\n",
       "      <td>255</td>\n",
       "      <td>2</td>\n",
       "      <td>0</td>\n",
       "      <td>0</td>\n",
       "      <td>1</td>\n",
       "      <td>0</td>\n",
       "    </tr>\n",
       "  </tbody>\n",
       "</table>\n",
       "</div>"
      ],
      "text/plain": [
       "   Agent Name  call picked by customer  Calls attempted by agent  \\\n",
       "0           8                        1                         5   \n",
       "1          12                        0                         0   \n",
       "2           5                        0                         1   \n",
       "3          13                        1                         4   \n",
       "4          22                        1                         1   \n",
       "\n",
       "   calls made by cust  Connected Calls  Agent tone  total calls durationæ  \\\n",
       "0                   0                1           2                    265   \n",
       "1                   0                0           1                      0   \n",
       "2                   0                0           1                      0   \n",
       "3                   0                3           2                    107   \n",
       "4                   0                1           2                    255   \n",
       "\n",
       "   Asked to call back  Customer Interest  Days to expire  Expiry status  \\\n",
       "0                   1                  0               2              0   \n",
       "1                   0                  2               0              3   \n",
       "2                   0                  2               0              3   \n",
       "3                   2                  2               0              3   \n",
       "4                   2                  0               0              1   \n",
       "\n",
       "   Purchased  \n",
       "0          0  \n",
       "1          0  \n",
       "2          0  \n",
       "3          0  \n",
       "4          0  "
      ]
     },
     "execution_count": 279,
     "metadata": {},
     "output_type": "execute_result"
    }
   ],
   "source": [
    "df1.head()"
   ]
  },
  {
   "cell_type": "code",
   "execution_count": 280,
   "metadata": {},
   "outputs": [],
   "source": [
    "from sklearn.model_selection import train_test_split\n",
    "X = df1.drop('Purchased',axis='columns')\n",
    "y = df1.Purchased"
   ]
  },
  {
   "cell_type": "code",
   "execution_count": 452,
   "metadata": {},
   "outputs": [
    {
     "data": {
      "text/html": [
       "<div>\n",
       "<style scoped>\n",
       "    .dataframe tbody tr th:only-of-type {\n",
       "        vertical-align: middle;\n",
       "    }\n",
       "\n",
       "    .dataframe tbody tr th {\n",
       "        vertical-align: top;\n",
       "    }\n",
       "\n",
       "    .dataframe thead th {\n",
       "        text-align: right;\n",
       "    }\n",
       "</style>\n",
       "<table border=\"1\" class=\"dataframe\">\n",
       "  <thead>\n",
       "    <tr style=\"text-align: right;\">\n",
       "      <th></th>\n",
       "      <th>Agent Name</th>\n",
       "      <th>call picked by customer</th>\n",
       "      <th>Calls attempted by agent</th>\n",
       "      <th>calls made by cust</th>\n",
       "      <th>Connected Calls</th>\n",
       "      <th>Agent tone</th>\n",
       "      <th>total calls durationæ</th>\n",
       "      <th>Asked to call back</th>\n",
       "      <th>Customer Interest</th>\n",
       "      <th>Days to expire</th>\n",
       "      <th>Expiry status</th>\n",
       "    </tr>\n",
       "  </thead>\n",
       "  <tbody>\n",
       "    <tr>\n",
       "      <th>60</th>\n",
       "      <td>19</td>\n",
       "      <td>1</td>\n",
       "      <td>2</td>\n",
       "      <td>0</td>\n",
       "      <td>2</td>\n",
       "      <td>2</td>\n",
       "      <td>1929</td>\n",
       "      <td>1</td>\n",
       "      <td>0</td>\n",
       "      <td>0</td>\n",
       "      <td>2</td>\n",
       "    </tr>\n",
       "    <tr>\n",
       "      <th>94</th>\n",
       "      <td>14</td>\n",
       "      <td>1</td>\n",
       "      <td>5</td>\n",
       "      <td>0</td>\n",
       "      <td>3</td>\n",
       "      <td>2</td>\n",
       "      <td>692</td>\n",
       "      <td>1</td>\n",
       "      <td>0</td>\n",
       "      <td>20</td>\n",
       "      <td>0</td>\n",
       "    </tr>\n",
       "    <tr>\n",
       "      <th>35</th>\n",
       "      <td>3</td>\n",
       "      <td>1</td>\n",
       "      <td>11</td>\n",
       "      <td>0</td>\n",
       "      <td>1</td>\n",
       "      <td>2</td>\n",
       "      <td>160</td>\n",
       "      <td>1</td>\n",
       "      <td>2</td>\n",
       "      <td>0</td>\n",
       "      <td>3</td>\n",
       "    </tr>\n",
       "    <tr>\n",
       "      <th>89</th>\n",
       "      <td>7</td>\n",
       "      <td>1</td>\n",
       "      <td>14</td>\n",
       "      <td>1</td>\n",
       "      <td>10</td>\n",
       "      <td>2</td>\n",
       "      <td>3214</td>\n",
       "      <td>2</td>\n",
       "      <td>0</td>\n",
       "      <td>0</td>\n",
       "      <td>1</td>\n",
       "    </tr>\n",
       "    <tr>\n",
       "      <th>5</th>\n",
       "      <td>22</td>\n",
       "      <td>1</td>\n",
       "      <td>3</td>\n",
       "      <td>0</td>\n",
       "      <td>1</td>\n",
       "      <td>2</td>\n",
       "      <td>34</td>\n",
       "      <td>1</td>\n",
       "      <td>2</td>\n",
       "      <td>0</td>\n",
       "      <td>3</td>\n",
       "    </tr>\n",
       "  </tbody>\n",
       "</table>\n",
       "</div>"
      ],
      "text/plain": [
       "    Agent Name  call picked by customer  Calls attempted by agent  \\\n",
       "60          19                        1                         2   \n",
       "94          14                        1                         5   \n",
       "35           3                        1                        11   \n",
       "89           7                        1                        14   \n",
       "5           22                        1                         3   \n",
       "\n",
       "    calls made by cust  Connected Calls  Agent tone  total calls durationæ  \\\n",
       "60                   0                2           2                   1929   \n",
       "94                   0                3           2                    692   \n",
       "35                   0                1           2                    160   \n",
       "89                   1               10           2                   3214   \n",
       "5                    0                1           2                     34   \n",
       "\n",
       "    Asked to call back  Customer Interest  Days to expire  Expiry status  \n",
       "60                   1                  0               0              2  \n",
       "94                   1                  0              20              0  \n",
       "35                   1                  2               0              3  \n",
       "89                   2                  0               0              1  \n",
       "5                    1                  2               0              3  "
      ]
     },
     "execution_count": 452,
     "metadata": {},
     "output_type": "execute_result"
    }
   ],
   "source": [
    "X_train, X_test, y_train, y_test = train_test_split(X, y, test_size=0.099, random_state=20)\n",
    "X_train.head()"
   ]
  },
  {
   "cell_type": "code",
   "execution_count": 453,
   "metadata": {},
   "outputs": [
    {
     "data": {
      "text/html": [
       "<div>\n",
       "<style scoped>\n",
       "    .dataframe tbody tr th:only-of-type {\n",
       "        vertical-align: middle;\n",
       "    }\n",
       "\n",
       "    .dataframe tbody tr th {\n",
       "        vertical-align: top;\n",
       "    }\n",
       "\n",
       "    .dataframe thead th {\n",
       "        text-align: right;\n",
       "    }\n",
       "</style>\n",
       "<table border=\"1\" class=\"dataframe\">\n",
       "  <thead>\n",
       "    <tr style=\"text-align: right;\">\n",
       "      <th></th>\n",
       "      <th>Agent Name</th>\n",
       "      <th>call picked by customer</th>\n",
       "      <th>Calls attempted by agent</th>\n",
       "      <th>calls made by cust</th>\n",
       "      <th>Connected Calls</th>\n",
       "      <th>Agent tone</th>\n",
       "      <th>total calls durationæ</th>\n",
       "      <th>Asked to call back</th>\n",
       "      <th>Customer Interest</th>\n",
       "      <th>Days to expire</th>\n",
       "      <th>Expiry status</th>\n",
       "    </tr>\n",
       "  </thead>\n",
       "  <tbody>\n",
       "    <tr>\n",
       "      <th>13</th>\n",
       "      <td>19</td>\n",
       "      <td>0</td>\n",
       "      <td>1</td>\n",
       "      <td>0</td>\n",
       "      <td>0</td>\n",
       "      <td>1</td>\n",
       "      <td>0</td>\n",
       "      <td>0</td>\n",
       "      <td>2</td>\n",
       "      <td>0</td>\n",
       "      <td>3</td>\n",
       "    </tr>\n",
       "    <tr>\n",
       "      <th>22</th>\n",
       "      <td>13</td>\n",
       "      <td>1</td>\n",
       "      <td>1</td>\n",
       "      <td>0</td>\n",
       "      <td>1</td>\n",
       "      <td>2</td>\n",
       "      <td>41</td>\n",
       "      <td>1</td>\n",
       "      <td>0</td>\n",
       "      <td>0</td>\n",
       "      <td>3</td>\n",
       "    </tr>\n",
       "    <tr>\n",
       "      <th>60</th>\n",
       "      <td>19</td>\n",
       "      <td>1</td>\n",
       "      <td>2</td>\n",
       "      <td>0</td>\n",
       "      <td>2</td>\n",
       "      <td>2</td>\n",
       "      <td>1929</td>\n",
       "      <td>1</td>\n",
       "      <td>0</td>\n",
       "      <td>0</td>\n",
       "      <td>2</td>\n",
       "    </tr>\n",
       "    <tr>\n",
       "      <th>91</th>\n",
       "      <td>5</td>\n",
       "      <td>1</td>\n",
       "      <td>13</td>\n",
       "      <td>0</td>\n",
       "      <td>8</td>\n",
       "      <td>2</td>\n",
       "      <td>2630</td>\n",
       "      <td>1</td>\n",
       "      <td>0</td>\n",
       "      <td>7</td>\n",
       "      <td>0</td>\n",
       "    </tr>\n",
       "    <tr>\n",
       "      <th>63</th>\n",
       "      <td>19</td>\n",
       "      <td>1</td>\n",
       "      <td>2</td>\n",
       "      <td>0</td>\n",
       "      <td>2</td>\n",
       "      <td>2</td>\n",
       "      <td>2024</td>\n",
       "      <td>1</td>\n",
       "      <td>0</td>\n",
       "      <td>12</td>\n",
       "      <td>0</td>\n",
       "    </tr>\n",
       "  </tbody>\n",
       "</table>\n",
       "</div>"
      ],
      "text/plain": [
       "    Agent Name  call picked by customer  Calls attempted by agent  \\\n",
       "13          19                        0                         1   \n",
       "22          13                        1                         1   \n",
       "60          19                        1                         2   \n",
       "91           5                        1                        13   \n",
       "63          19                        1                         2   \n",
       "\n",
       "    calls made by cust  Connected Calls  Agent tone  total calls durationæ  \\\n",
       "13                   0                0           1                      0   \n",
       "22                   0                1           2                     41   \n",
       "60                   0                2           2                   1929   \n",
       "91                   0                8           2                   2630   \n",
       "63                   0                2           2                   2024   \n",
       "\n",
       "    Asked to call back  Customer Interest  Days to expire  Expiry status  \n",
       "13                   0                  2               0              3  \n",
       "22                   1                  0               0              3  \n",
       "60                   1                  0               0              2  \n",
       "91                   1                  0               7              0  \n",
       "63                   1                  0              12              0  "
      ]
     },
     "execution_count": 453,
     "metadata": {},
     "output_type": "execute_result"
    }
   ],
   "source": [
    "X_train, X_val, y_train, y_val = train_test_split(X_train, y_train, test_size=0.1208, random_state=20)\n",
    "X_train.head()"
   ]
  },
  {
   "cell_type": "code",
   "execution_count": 454,
   "metadata": {},
   "outputs": [
    {
     "data": {
      "text/plain": [
       "11"
      ]
     },
     "execution_count": 454,
     "metadata": {},
     "output_type": "execute_result"
    }
   ],
   "source": [
    "len(X_val)"
   ]
  },
  {
   "cell_type": "code",
   "execution_count": 455,
   "metadata": {},
   "outputs": [
    {
     "data": {
      "text/plain": [
       "SVC(C=1.0, cache_size=200, class_weight=None, coef0=0.0,\n",
       "  decision_function_shape='ovr', degree=3, gamma='auto', kernel='linear',\n",
       "  max_iter=-1, probability=False, random_state=1, shrinking=True,\n",
       "  tol=0.001, verbose=False)"
      ]
     },
     "execution_count": 455,
     "metadata": {},
     "output_type": "execute_result"
    }
   ],
   "source": [
    "#Import Library\n",
    "model = SVC(kernel='linear', random_state=1)\n",
    "model.fit(X_train, y_train)"
   ]
  },
  {
   "cell_type": "code",
   "execution_count": 456,
   "metadata": {},
   "outputs": [],
   "source": [
    "predicted=model.predict(X_val)"
   ]
  },
  {
   "cell_type": "code",
   "execution_count": 457,
   "metadata": {},
   "outputs": [
    {
     "name": "stdout",
     "output_type": "stream",
     "text": [
      "[[3 0]\n",
      " [1 7]]\n"
     ]
    }
   ],
   "source": [
    "cm = confusion_matrix(y_val, predicted)\n",
    "print(cm)"
   ]
  },
  {
   "cell_type": "code",
   "execution_count": 458,
   "metadata": {},
   "outputs": [
    {
     "data": {
      "text/plain": [
       "0.9090909090909091"
      ]
     },
     "execution_count": 458,
     "metadata": {},
     "output_type": "execute_result"
    }
   ],
   "source": [
    "accuracy_score(y_val,predicted)"
   ]
  },
  {
   "cell_type": "code",
   "execution_count": 459,
   "metadata": {},
   "outputs": [],
   "source": [
    "p=model.predict(X_test)"
   ]
  },
  {
   "cell_type": "code",
   "execution_count": 460,
   "metadata": {},
   "outputs": [
    {
     "name": "stdout",
     "output_type": "stream",
     "text": [
      "[[8 1]\n",
      " [0 1]]\n"
     ]
    }
   ],
   "source": [
    "cm = confusion_matrix(y_test, p)\n",
    "print(cm)"
   ]
  },
  {
   "cell_type": "code",
   "execution_count": 461,
   "metadata": {},
   "outputs": [
    {
     "data": {
      "text/plain": [
       "0.9"
      ]
     },
     "execution_count": 461,
     "metadata": {},
     "output_type": "execute_result"
    }
   ],
   "source": [
    "accuracy_score(y_test,p)"
   ]
  },
  {
   "cell_type": "code",
   "execution_count": null,
   "metadata": {},
   "outputs": [],
   "source": []
  },
  {
   "cell_type": "code",
   "execution_count": null,
   "metadata": {},
   "outputs": [],
   "source": []
  },
  {
   "cell_type": "code",
   "execution_count": 462,
   "metadata": {},
   "outputs": [
    {
     "data": {
      "text/plain": [
       "DecisionTreeClassifier(class_weight=None, criterion='entropy', max_depth=None,\n",
       "            max_features=None, max_leaf_nodes=None,\n",
       "            min_impurity_decrease=0.0, min_impurity_split=None,\n",
       "            min_samples_leaf=1, min_samples_split=2,\n",
       "            min_weight_fraction_leaf=0.0, presort=False, random_state=1,\n",
       "            splitter='best')"
      ]
     },
     "execution_count": 462,
     "metadata": {},
     "output_type": "execute_result"
    }
   ],
   "source": [
    "classifier_entropy = DecisionTreeClassifier(criterion='entropy', random_state=1)\n",
    "classifier_entropy.fit(X_train, y_train)"
   ]
  },
  {
   "cell_type": "code",
   "execution_count": 463,
   "metadata": {},
   "outputs": [],
   "source": [
    "y_pred_ent_val = classifier_entropy.predict(X_val)"
   ]
  },
  {
   "cell_type": "code",
   "execution_count": 464,
   "metadata": {},
   "outputs": [
    {
     "name": "stdout",
     "output_type": "stream",
     "text": [
      "[[3 0]\n",
      " [5 3]]\n"
     ]
    }
   ],
   "source": [
    "cm = confusion_matrix(y_val, y_pred_ent_val)\n",
    "print(cm)"
   ]
  },
  {
   "cell_type": "code",
   "execution_count": 465,
   "metadata": {},
   "outputs": [
    {
     "data": {
      "text/plain": [
       "0.5454545454545454"
      ]
     },
     "execution_count": 465,
     "metadata": {},
     "output_type": "execute_result"
    }
   ],
   "source": [
    "accuracy_score(y_val,y_pred_ent_val)"
   ]
  },
  {
   "cell_type": "code",
   "execution_count": 466,
   "metadata": {},
   "outputs": [],
   "source": [
    "y_pred_ent = classifier_entropy.predict(X_test)"
   ]
  },
  {
   "cell_type": "code",
   "execution_count": 467,
   "metadata": {},
   "outputs": [
    {
     "name": "stdout",
     "output_type": "stream",
     "text": [
      "[[6 3]\n",
      " [0 1]]\n"
     ]
    }
   ],
   "source": [
    "cm = confusion_matrix(y_test, y_pred_ent)\n",
    "print(cm)"
   ]
  },
  {
   "cell_type": "code",
   "execution_count": 468,
   "metadata": {},
   "outputs": [
    {
     "data": {
      "text/plain": [
       "0.7"
      ]
     },
     "execution_count": 468,
     "metadata": {},
     "output_type": "execute_result"
    }
   ],
   "source": [
    "accuracy_score(y_test,y_pred_ent)"
   ]
  },
  {
   "cell_type": "code",
   "execution_count": null,
   "metadata": {},
   "outputs": [],
   "source": []
  },
  {
   "cell_type": "code",
   "execution_count": null,
   "metadata": {},
   "outputs": [],
   "source": []
  },
  {
   "cell_type": "code",
   "execution_count": 485,
   "metadata": {},
   "outputs": [
    {
     "name": "stdout",
     "output_type": "stream",
     "text": [
      " Gradient Boost Classifier\n",
      "Accuracy:  0.55\n",
      "Logaritmic Loss:  3.07\n"
     ]
    }
   ],
   "source": [
    "seed = 100\n",
    "grad_boost=GradientBoostingClassifier(\n",
    "    max_depth = 70,\n",
    "    n_estimators = 1000,\n",
    "    warm_start=True,\n",
    "    random_state = 1 )\n",
    "\n",
    "grad_boost.fit(X_train, y_train)\n",
    "\n",
    "grad_boost_pred_val=grad_boost.predict(X_val)\n",
    "grad_boost_pred_prob_val=grad_boost.predict_proba(X_val)\n",
    "\n",
    "grad_boost_acc_val=accuracy_score(y_val, grad_boost_pred_val)\n",
    "grad_boost_loss_val=log_loss(y_val,grad_boost_pred_prob_val)\n",
    "\n",
    "print(\" Gradient Boost Classifier\")\n",
    "\n",
    "print(\"Accuracy: {0: .2f}\".format(grad_boost_acc_val))\n",
    "print(\"Logaritmic Loss: {0: .2f}\".format(grad_boost_loss_val))"
   ]
  },
  {
   "cell_type": "code",
   "execution_count": 486,
   "metadata": {},
   "outputs": [
    {
     "name": "stdout",
     "output_type": "stream",
     "text": [
      " Gradient Boost Classifier\n",
      "Accuracy:  0.80\n",
      "Logaritmic Loss:  0.19\n"
     ]
    }
   ],
   "source": [
    "grad_boost_pred=grad_boost.predict(X_test)\n",
    "grad_boost_pred_prob=grad_boost.predict_proba(X_test)\n",
    "\n",
    "grad_boost_acc=accuracy_score(y_test, grad_boost_pred)\n",
    "grad_boost_loss=log_loss(y_test,grad_boost_pred_prob)\n",
    "\n",
    "print(\" Gradient Boost Classifier\")\n",
    "\n",
    "print(\"Accuracy: {0: .2f}\".format(grad_boost_acc))\n",
    "print(\"Logaritmic Loss: {0: .2f}\".format(grad_boost_loss))\n",
    "#print(\"number of nodes created in decision tree: {0: .2f}\".format(dec_tree.tree_.node_count))"
   ]
  },
  {
   "cell_type": "code",
   "execution_count": null,
   "metadata": {},
   "outputs": [],
   "source": []
  }
 ],
 "metadata": {
  "kernelspec": {
   "display_name": "Python 3",
   "language": "python",
   "name": "python3"
  },
  "language_info": {
   "codemirror_mode": {
    "name": "ipython",
    "version": 3
   },
   "file_extension": ".py",
   "mimetype": "text/x-python",
   "name": "python",
   "nbconvert_exporter": "python",
   "pygments_lexer": "ipython3",
   "version": "3.6.5"
  }
 },
 "nbformat": 4,
 "nbformat_minor": 2
}
